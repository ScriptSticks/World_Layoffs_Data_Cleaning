{
  "nbformat": 4,
  "nbformat_minor": 0,
  "metadata": {
    "colab": {
      "provenance": []
    },
    "kernelspec": {
      "name": "python3",
      "display_name": "Python 3"
    },
    "language_info": {
      "name": "python"
    }
  },
  "cells": [
    {
      "cell_type": "markdown",
      "source": [
        "[This is the link to the data set](https://drive.google.com/file/d/1eV5x4djY3uANJ2lp1K9J0RIy3Q7k69UE/view?usp=drive_link)"
      ],
      "metadata": {
        "id": "tXkzQtVPSi3z"
      }
    },
    {
      "cell_type": "code",
      "source": [
        "%%sql\n",
        "SELECT * FROM layoffs_staging;"
      ],
      "metadata": {
        "id": "ENZlLQQ9SXIF"
      },
      "execution_count": null,
      "outputs": []
    },
    {
      "cell_type": "markdown",
      "source": [
        "**DATA CLEANING PROJECT PROCEDURE**\n",
        "1. Remove Duplicates if there are any\n",
        "2. Standardize the data\n",
        "3. Handle the NULL values or the BLANK values\n",
        "4. Remove columns that are not necessary"
      ],
      "metadata": {
        "id": "4UAwr_R6S8aT"
      }
    },
    {
      "cell_type": "code",
      "source": [
        "#Checking for duplicates in the raw data using CTE.\n",
        "%%sql\n",
        "  WITH CTE_Duplicate AS (\n",
        "  SELECT *,\n",
        "  ROW_NUMBER()\n",
        "  OVER(PARTITION BY company, location, industry, total_laid_off, percentage_laid_off, date, stage, country, funds_raised_millions) row_num\n",
        "  FROM layoffs\n",
        "  )\n",
        "  SELECT * FROM CTE_Duplicate\n",
        "  WHERE row_num > 1\n",
        "  ;"
      ],
      "metadata": {
        "id": "UQ1ZYCgqTc11"
      },
      "execution_count": null,
      "outputs": []
    },
    {
      "cell_type": "code",
      "source": [
        "%%sql\n",
        "\n",
        "#Duplicates found. To avoid tampering with the raw data which is a bad practice,\n",
        "#I created a staging table where I inserted the data and also remove duplicate rows\n",
        "\n",
        "  CREATE TABLE `layoffs_staging` (\n",
        "    `company` text,\n",
        "    `location` text,\n",
        "    `industry` text,\n",
        "    `total_laid_off` int DEFAULT NULL,\n",
        "    `percentage_laid_off` text,\n",
        "    `date` date DEFAULT NULL,\n",
        "    `stage` text,\n",
        "    `country` text,\n",
        "    `funds_raised_millions` int DEFAULT NULL,\n",
        "    `row_num` int DEFAULT NULL\n",
        "  ) ENGINE=InnoDB DEFAULT CHARSET=utf8mb4 COLLATE=utf8mb4_0900_ai_ci;\n",
        "\n",
        "  INSERT INTO layoffs_staging\n",
        "  SELECT *,\n",
        "  ROW_NUMBER()\n",
        "  OVER(PARTITION BY company, location, industry, total_laid_off, percentage_laid_off, date, stage, country, funds_raised_millions) row_num\n",
        "  FROM layoffs\n",
        "  ;\n",
        "\n",
        "# Deleting the duplicate data\n",
        "  DELETE\n",
        "  FROM layoffs_staging\n",
        "  WHERE row_num > 1;"
      ],
      "metadata": {
        "id": "E2GzlK5DU1oq"
      },
      "execution_count": null,
      "outputs": []
    },
    {
      "cell_type": "code",
      "source": [
        "%%sql\n",
        "#Trimming the company column. Some company names had bad formatting.\n",
        "  UPDATE layoffs_staging\n",
        "  SET company =  TRIM(company);\n",
        "\n",
        "#The industry column contains some data that are similar we need to unify data that are similar and actually mean the same thing\n",
        "  UPDATE layoffs_staging\n",
        "  SET industry = 'Crypto'\n",
        "  WHERE industry LIKE 'CRYPTO%'\n",
        "  ;"
      ],
      "metadata": {
        "id": "oPDAGXsRVLCa"
      },
      "execution_count": null,
      "outputs": []
    },
    {
      "cell_type": "code",
      "source": [
        "%%sql\n",
        "#Inside the country column there's two distinct value that looks similar.\n",
        "# (i) United States (ii) United States.\n",
        "# I removed the the period(.) in the second value\n",
        "\n",
        "  UPDATE layoffs_staging\n",
        "  SET country = REPLACE(country, '.', '')\n",
        "  WHERE country LIKE  '%.%';"
      ],
      "metadata": {
        "id": "k-LTCrUhVUkt"
      },
      "execution_count": null,
      "outputs": []
    },
    {
      "cell_type": "code",
      "source": [
        "%%sql\n",
        "#converting date column from text data type to date data type\n",
        "  UPDATE layoffs_staging\n",
        "  SET `date` = STR_TO_DATE(`date`, '%m/%d/%Y');\n",
        "\n",
        "  ALTER TABLE layoffs_staging\n",
        "  MODIFY COLUMN `date` DATE;"
      ],
      "metadata": {
        "id": "ZP1ihti4VeCo"
      },
      "execution_count": null,
      "outputs": []
    },
    {
      "cell_type": "code",
      "source": [
        "%%sql\n",
        "#Hanlding NULL/BLANK values\n",
        "  SELECT *\n",
        "  FROM layoffs_staging\n",
        "  WHERE industry IS NULL OR industry = ''\n",
        "  ;\n",
        "\n",
        "# I set the values of company with blank spaces to NULLs\n",
        "  UPDATE layoffs_staging\n",
        "  SET industry = NULL\n",
        "  WHERE industry = ''\n",
        "  ;\n",
        "\n",
        "# I performed a self join operation. Joining ON the company name where the industry is not null.\n",
        "# This helps to identify company that appears multiple times and has at least its industry  to populate the NULL industries.\n",
        "  SELECT *\n",
        "  FROM layoffs_staging t1\n",
        "  JOIN layoffs_staging t2\n",
        "    ON t1.company = t2.company\n",
        "  WHERE t1.industry IS NULL AND t2.industry IS NOT NULL\n",
        "  ;\n",
        "\n",
        "  UPDATE layoffs_staging t1\n",
        "  JOIN layoffs_staging t2\n",
        "    ON t1.company = t2.company\n",
        "  SET t1.industry = t2.industry\n",
        "  WHERE t1.industry IS NULL AND t2.industry IS NOT NULL;"
      ],
      "metadata": {
        "id": "KaOiKxHMVvWa"
      },
      "execution_count": null,
      "outputs": []
    },
    {
      "cell_type": "code",
      "source": [
        "%%sql\n",
        "#Removing rows that has null values for both percent laid off and total laid off\n",
        "  DELETE FROM layoffs_staging WHERE percentage_laid_off IS NULL AND total_laid_off IS NULL;\n",
        "\n",
        "#Removing the row_num column\n",
        "  ALTER TABLE layoffs_staging\n",
        "  DROP COLUMN row_num ;\n"
      ],
      "metadata": {
        "id": "P8SjdfLXWUHp"
      },
      "execution_count": null,
      "outputs": []
    }
  ]
}